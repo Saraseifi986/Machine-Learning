{
 "cells": [
  {
   "cell_type": "code",
   "execution_count": 1,
   "id": "cd04f66b-d9d7-4995-9fe1-dd52d167f4e0",
   "metadata": {},
   "outputs": [],
   "source": [
    "%matplotlib inline\n",
    "import numpy as np\n",
    "import matplotlib.pyplot as plt\n",
    "from sklearn.linear_model import LinearRegression \n",
    "from sklearn.linear_model import Ridge\n",
    "from sklearn.linear_model import Lasso\n",
    "from sklearn.metrics import mean_squared_error\n",
    "from sklearn.metrics import mean_absolute_error\n",
    "from sklearn.model_selection import train_test_split\n",
    "import pandas as pd\n",
    "import seaborn as sns\n",
    "from sklearn.preprocessing import PolynomialFeatures"
   ]
  },
  {
   "cell_type": "code",
   "execution_count": 2,
   "id": "f566d772-30d3-4bf0-aabf-6401bb8fd6f5",
   "metadata": {},
   "outputs": [
    {
     "data": {
      "text/html": [
       "<div>\n",
       "<style scoped>\n",
       "    .dataframe tbody tr th:only-of-type {\n",
       "        vertical-align: middle;\n",
       "    }\n",
       "\n",
       "    .dataframe tbody tr th {\n",
       "        vertical-align: top;\n",
       "    }\n",
       "\n",
       "    .dataframe thead th {\n",
       "        text-align: right;\n",
       "    }\n",
       "</style>\n",
       "<table border=\"1\" class=\"dataframe\">\n",
       "  <thead>\n",
       "    <tr style=\"text-align: right;\">\n",
       "      <th></th>\n",
       "      <th>TV</th>\n",
       "      <th>radio</th>\n",
       "      <th>newspaper</th>\n",
       "      <th>sales</th>\n",
       "    </tr>\n",
       "  </thead>\n",
       "  <tbody>\n",
       "    <tr>\n",
       "      <th>0</th>\n",
       "      <td>230.1</td>\n",
       "      <td>37.8</td>\n",
       "      <td>69.2</td>\n",
       "      <td>22.1</td>\n",
       "    </tr>\n",
       "    <tr>\n",
       "      <th>1</th>\n",
       "      <td>44.5</td>\n",
       "      <td>39.3</td>\n",
       "      <td>45.1</td>\n",
       "      <td>10.4</td>\n",
       "    </tr>\n",
       "    <tr>\n",
       "      <th>2</th>\n",
       "      <td>17.2</td>\n",
       "      <td>45.9</td>\n",
       "      <td>69.3</td>\n",
       "      <td>9.3</td>\n",
       "    </tr>\n",
       "    <tr>\n",
       "      <th>3</th>\n",
       "      <td>151.5</td>\n",
       "      <td>41.3</td>\n",
       "      <td>58.5</td>\n",
       "      <td>18.5</td>\n",
       "    </tr>\n",
       "    <tr>\n",
       "      <th>4</th>\n",
       "      <td>180.8</td>\n",
       "      <td>10.8</td>\n",
       "      <td>58.4</td>\n",
       "      <td>12.9</td>\n",
       "    </tr>\n",
       "    <tr>\n",
       "      <th>...</th>\n",
       "      <td>...</td>\n",
       "      <td>...</td>\n",
       "      <td>...</td>\n",
       "      <td>...</td>\n",
       "    </tr>\n",
       "    <tr>\n",
       "      <th>195</th>\n",
       "      <td>38.2</td>\n",
       "      <td>3.7</td>\n",
       "      <td>13.8</td>\n",
       "      <td>7.6</td>\n",
       "    </tr>\n",
       "    <tr>\n",
       "      <th>196</th>\n",
       "      <td>94.2</td>\n",
       "      <td>4.9</td>\n",
       "      <td>8.1</td>\n",
       "      <td>9.7</td>\n",
       "    </tr>\n",
       "    <tr>\n",
       "      <th>197</th>\n",
       "      <td>177.0</td>\n",
       "      <td>9.3</td>\n",
       "      <td>6.4</td>\n",
       "      <td>12.8</td>\n",
       "    </tr>\n",
       "    <tr>\n",
       "      <th>198</th>\n",
       "      <td>283.6</td>\n",
       "      <td>42.0</td>\n",
       "      <td>66.2</td>\n",
       "      <td>25.5</td>\n",
       "    </tr>\n",
       "    <tr>\n",
       "      <th>199</th>\n",
       "      <td>232.1</td>\n",
       "      <td>8.6</td>\n",
       "      <td>8.7</td>\n",
       "      <td>13.4</td>\n",
       "    </tr>\n",
       "  </tbody>\n",
       "</table>\n",
       "<p>200 rows × 4 columns</p>\n",
       "</div>"
      ],
      "text/plain": [
       "        TV  radio  newspaper  sales\n",
       "0    230.1   37.8       69.2   22.1\n",
       "1     44.5   39.3       45.1   10.4\n",
       "2     17.2   45.9       69.3    9.3\n",
       "3    151.5   41.3       58.5   18.5\n",
       "4    180.8   10.8       58.4   12.9\n",
       "..     ...    ...        ...    ...\n",
       "195   38.2    3.7       13.8    7.6\n",
       "196   94.2    4.9        8.1    9.7\n",
       "197  177.0    9.3        6.4   12.8\n",
       "198  283.6   42.0       66.2   25.5\n",
       "199  232.1    8.6        8.7   13.4\n",
       "\n",
       "[200 rows x 4 columns]"
      ]
     },
     "execution_count": 2,
     "metadata": {},
     "output_type": "execute_result"
    }
   ],
   "source": [
    "df = pd.read_csv('Advertising.csv')\n",
    "df.drop('Unnamed: 0', axis=1, inplace=True)\n",
    "df"
   ]
  },
  {
   "cell_type": "code",
   "execution_count": 4,
   "id": "cfdd416b-0491-462c-98dc-252612e43d12",
   "metadata": {},
   "outputs": [],
   "source": [
    "def generate_power_n_features(x, n):\n",
    "    T = PolynomialFeatures(n, interaction_only=False, include_bias=False)\n",
    "    return T.fit_transform(x)"
   ]
  },
  {
   "cell_type": "code",
   "execution_count": 5,
   "id": "b5222ff7-9599-4759-8633-a51fac315aec",
   "metadata": {},
   "outputs": [],
   "source": [
    "def train(x, y, max_degree):\n",
    "    results = []\n",
    "    for i in range(1, max_degree+1):\n",
    "        x_prime = generate_power_n_features(x, i)\n",
    "        model = LinearRegression(fit_intercept=True)\n",
    "        model.fit(x_prime, y.reshape(-1,1))\n",
    "        p = model.predict(x_prime)\n",
    "        results.append({'model': model, \n",
    "                        'd': i, \n",
    "                        'r2': model.score(x_prime, y.reshape(-1,1)),\n",
    "                        'err': mean_absolute_error(y.reshape(-1,1), p)})\n",
    "    return results"
   ]
  },
  {
   "cell_type": "code",
   "execution_count": 6,
   "id": "bdb006a9-a066-4077-a535-1cc0db2bcb96",
   "metadata": {},
   "outputs": [],
   "source": [
    "# x = df.loc[:, ['TV', 'radio', 'newspaper']].values\n",
    "x = df.drop('sales', axis=1).values\n",
    "y = df['sales'].values.reshape(-1,1)"
   ]
  },
  {
   "cell_type": "code",
   "execution_count": 7,
   "id": "91eb25dc-f0ce-405a-aa8b-edd7fded923f",
   "metadata": {},
   "outputs": [
    {
     "name": "stdout",
     "output_type": "stream",
     "text": [
      "(200, 3)\n",
      "(200, 1)\n"
     ]
    }
   ],
   "source": [
    "print(x.shape)\n",
    "print(y.shape)"
   ]
  },
  {
   "cell_type": "code",
   "execution_count": 8,
   "id": "cf3681b2-2444-4590-8fbc-f0b1e3fc35b9",
   "metadata": {},
   "outputs": [
    {
     "name": "stdout",
     "output_type": "stream",
     "text": [
      "(160, 3) (160, 1)\n",
      "(40, 3) (40, 1)\n"
     ]
    }
   ],
   "source": [
    "x_train, x_test, y_train, y_test = train_test_split(x, y, test_size=0.2)\n",
    "print(x_train.shape, y_train.shape)\n",
    "print(x_test.shape, y_test.shape)"
   ]
  },
  {
   "cell_type": "code",
   "execution_count": 9,
   "id": "e66f9352-0486-4f3f-966c-5e80be94a72d",
   "metadata": {},
   "outputs": [],
   "source": [
    "res = train(x_train, y_train, 6)"
   ]
  },
  {
   "cell_type": "code",
   "execution_count": 10,
   "id": "a98eb731-8a93-46ed-9340-80d6ac0b4e3d",
   "metadata": {},
   "outputs": [
    {
     "name": "stdout",
     "output_type": "stream",
     "text": [
      "1 - R2: 0.9061 - err: 1.2 - err test: 1.4\n",
      "2 - R2: 0.9855 - err: 0.4 - err test: 0.4\n",
      "3 - R2: 0.9921 - err: 0.3 - err test: 0.4\n",
      "4 - R2: 0.9951 - err: 0.3 - err test: 0.4\n",
      "5 - R2: 0.9978 - err: 0.2 - err test: 0.4\n",
      "6 - R2: 0.9984 - err: 0.2 - err test: 2.9\n"
     ]
    }
   ],
   "source": [
    "errors_test = []\n",
    "for item in res:\n",
    "    m = item['model']\n",
    "    x_t_prime = generate_power_n_features(x_test, item['d'])\n",
    "    p = m.predict(x_t_prime)\n",
    "    err = mean_absolute_error(y_test.reshape(-1,1), p)\n",
    "    errors_test.append(err)\n",
    "    print(f\"{item['d']} - R2: {item['r2']:.4f} - err: {item['err']:.1f} - err test: {err:.1f}\")"
   ]
  },
  {
   "cell_type": "code",
   "execution_count": 11,
   "id": "78f1f801-b349-4bba-a8f7-f4575868cfaa",
   "metadata": {},
   "outputs": [],
   "source": [
    "errors_train = [item['err'] for item in res]"
   ]
  },
  {
   "cell_type": "code",
   "execution_count": 12,
   "id": "b07d2742-7477-48d8-ae09-823b3bf8e235",
   "metadata": {},
   "outputs": [
    {
     "data": {
      "image/png": "[encoded data removed]",
      "text/plain": [
       "<Figure size 640x480 with 1 Axes>"
      ]
     },
     "metadata": {},
     "output_type": "display_data"
    }
   ],
   "source": [
    "plt.plot(np.arange(1,len(res)+1), errors_train);\n",
    "plt.plot(np.arange(1,len(res)+1), errors_test);"
   ]
  },
  {
   "cell_type": "code",
   "execution_count": 45,
   "id": "40480f23-1691-431e-ae97-08a42e9363dd",
   "metadata": {},
   "outputs": [],
   "source": [
    "m = res[2]['model']"
   ]
  },
  {
   "cell_type": "code",
   "execution_count": 46,
   "id": "b72cf2e5-fda3-4ea2-8fbd-64169d048992",
   "metadata": {},
   "outputs": [
    {
     "data": {
      "text/plain": [
       "array([[ 1.43744542e-01,  1.16889571e-01, -9.01388091e-03,\n",
       "        -6.56029286e-04,  3.09464049e-03,  4.59412248e-04,\n",
       "         1.22294251e-06, -3.43846800e-05, -5.40437198e-06]])"
      ]
     },
     "execution_count": 46,
     "metadata": {},
     "output_type": "execute_result"
    }
   ],
   "source": [
    "m.coef_"
   ]
  },
  {
   "cell_type": "markdown",
   "id": "caefd821-d190-46cb-a6b9-4a6badbbbf91",
   "metadata": {},
   "source": [
    "# Regularization  \n",
    "- Penalty\n",
    "- Norm\n",
    "    - L1 -> Lasso\n",
    "    - L2 -> Ridge"
   ]
  },
  {
   "cell_type": "code",
   "execution_count": 13,
   "id": "0a8d13df-eacd-4a64-a28c-461a948bc850",
   "metadata": {},
   "outputs": [
    {
     "data": {
      "text/plain": [
       "[{'model': LinearRegression(),\n",
       "  'd': 1,\n",
       "  'r2': 0.9060654158118097,\n",
       "  'err': 1.1901121406324937},\n",
       " {'model': LinearRegression(),\n",
       "  'd': 2,\n",
       "  'r2': 0.9855258536437211,\n",
       "  'err': 0.4344341524668639},\n",
       " {'model': LinearRegression(),\n",
       "  'd': 3,\n",
       "  'r2': 0.9920505748058244,\n",
       "  'err': 0.3200191432227387},\n",
       " {'model': LinearRegression(),\n",
       "  'd': 4,\n",
       "  'r2': 0.9950791407443585,\n",
       "  'err': 0.2731491779353743},\n",
       " {'model': LinearRegression(),\n",
       "  'd': 5,\n",
       "  'r2': 0.9978287922380986,\n",
       "  'err': 0.1873643245186914},\n",
       " {'model': LinearRegression(),\n",
       "  'd': 6,\n",
       "  'r2': 0.9984136616938267,\n",
       "  'err': 0.15765186379932625}]"
      ]
     },
     "execution_count": 13,
     "metadata": {},
     "output_type": "execute_result"
    }
   ],
   "source": [
    "res\n"
   ]
  },
  {
   "cell_type": "code",
   "execution_count": 15,
   "id": "48f3f22b-9fed-4ae5-b219-e44de42b2858",
   "metadata": {},
   "outputs": [],
   "source": [
    "model6 = res[-1]['model']\n",
    "err6 = res[-1]['err']\n",
    "r2_6 = res[-1]['r2']\n",
    "err_test_6 = errors_test[-1]"
   ]
  },
  {
   "cell_type": "code",
   "execution_count": 18,
   "id": "2e57c4ac-af0d-4fa5-9a25-e5ffbd69c874",
   "metadata": {},
   "outputs": [
    {
     "name": "stdout",
     "output_type": "stream",
     "text": [
      "D = 6\n",
      "error train = 0.1577\n",
      "error test = 2.9036\n",
      "r2 = 0.9984\n"
     ]
    }
   ],
   "source": [
    "print(f\"D = 6\\nerror train = {err6:.4f}\\nerror test = {err_test_6:.4f}\\nr2 = {r2_6:.4f}\")"
   ]
  },
  {
   "cell_type": "code",
   "execution_count": 32,
   "id": "115eeba0-8f02-4c41-b002-0a50030216ae",
   "metadata": {},
   "outputs": [],
   "source": [
    "def train_ridge(x, y, degrees, alphas):\n",
    "    results = []\n",
    "    for i in degrees:\n",
    "        x_prime = generate_power_n_features(x, i)\n",
    "        for a in alphas:\n",
    "            model = Ridge(alpha=a, fit_intercept=True)\n",
    "            model.fit(x_prime, y.reshape(-1,1))\n",
    "            p = model.predict(x_prime)\n",
    "            results.append({'model': model, \n",
    "                            'd': i,\n",
    "                            'alpha': a,\n",
    "                            'r2': model.score(x_prime, y.reshape(-1,1)),\n",
    "                            'err': mean_absolute_error(y.reshape(-1,1), p)})\n",
    "    return results"
   ]
  },
  {
   "cell_type": "code",
   "execution_count": 40,
   "id": "2d213489-f423-4536-86df-8641e2152cf0",
   "metadata": {},
   "outputs": [
    {
     "name": "stderr",
     "output_type": "stream",
     "text": [
      "/home/ryn/.virtualenvs/anisa_ds/lib/python3.10/site-packages/sklearn/linear_model/_ridge.py:216: LinAlgWarning: Ill-conditioned matrix (rcond=4.15066e-20): result may not be accurate.\n",
      "  return linalg.solve(A, Xy, assume_a=\"pos\", overwrite_a=True).T\n",
      "/home/ryn/.virtualenvs/anisa_ds/lib/python3.10/site-packages/sklearn/linear_model/_ridge.py:216: LinAlgWarning: Ill-conditioned matrix (rcond=4.24917e-20): result may not be accurate.\n",
      "  return linalg.solve(A, Xy, assume_a=\"pos\", overwrite_a=True).T\n",
      "/home/ryn/.virtualenvs/anisa_ds/lib/python3.10/site-packages/sklearn/linear_model/_ridge.py:216: LinAlgWarning: Ill-conditioned matrix (rcond=4.68816e-20): result may not be accurate.\n",
      "  return linalg.solve(A, Xy, assume_a=\"pos\", overwrite_a=True).T\n",
      "/home/ryn/.virtualenvs/anisa_ds/lib/python3.10/site-packages/sklearn/linear_model/_ridge.py:216: LinAlgWarning: Ill-conditioned matrix (rcond=5.23938e-20): result may not be accurate.\n",
      "  return linalg.solve(A, Xy, assume_a=\"pos\", overwrite_a=True).T\n",
      "/home/ryn/.virtualenvs/anisa_ds/lib/python3.10/site-packages/sklearn/linear_model/_ridge.py:216: LinAlgWarning: Ill-conditioned matrix (rcond=6.34894e-20): result may not be accurate.\n",
      "  return linalg.solve(A, Xy, assume_a=\"pos\", overwrite_a=True).T\n",
      "/home/ryn/.virtualenvs/anisa_ds/lib/python3.10/site-packages/sklearn/linear_model/_ridge.py:216: LinAlgWarning: Ill-conditioned matrix (rcond=7.46643e-20): result may not be accurate.\n",
      "  return linalg.solve(A, Xy, assume_a=\"pos\", overwrite_a=True).T\n",
      "/home/ryn/.virtualenvs/anisa_ds/lib/python3.10/site-packages/sklearn/linear_model/_ridge.py:216: LinAlgWarning: Ill-conditioned matrix (rcond=1.54221e-19): result may not be accurate.\n",
      "  return linalg.solve(A, Xy, assume_a=\"pos\", overwrite_a=True).T\n",
      "/home/ryn/.virtualenvs/anisa_ds/lib/python3.10/site-packages/sklearn/linear_model/_ridge.py:216: LinAlgWarning: Ill-conditioned matrix (rcond=1.21634e-17): result may not be accurate.\n",
      "  return linalg.solve(A, Xy, assume_a=\"pos\", overwrite_a=True).T\n"
     ]
    }
   ],
   "source": [
    "res = train_ridge(x_train, y_train, [4], [0.1, 1, 5, 10, 20, 30, 100, 10000])"
   ]
  },
  {
   "cell_type": "code",
   "execution_count": 41,
   "id": "ce3fab2a-8ac6-41ea-b134-d218e674c563",
   "metadata": {},
   "outputs": [
    {
     "name": "stdout",
     "output_type": "stream",
     "text": [
      "4 - R2: 0.9951 - err: 0.3 - err test: 0.4\n",
      "4 - R2: 0.9951 - err: 0.3 - err test: 0.4\n",
      "4 - R2: 0.9951 - err: 0.3 - err test: 0.4\n",
      "4 - R2: 0.9951 - err: 0.3 - err test: 0.4\n",
      "4 - R2: 0.9951 - err: 0.3 - err test: 0.4\n",
      "4 - R2: 0.9951 - err: 0.3 - err test: 0.4\n",
      "4 - R2: 0.9950 - err: 0.3 - err test: 0.4\n",
      "4 - R2: 0.9893 - err: 0.4 - err test: 0.5\n"
     ]
    }
   ],
   "source": [
    "errors_test = []\n",
    "for item in res:\n",
    "    m = item['model']\n",
    "    x_t_prime = generate_power_n_features(x_test, item['d'])\n",
    "    p = m.predict(x_t_prime)\n",
    "    err = mean_absolute_error(y_test.reshape(-1,1), p)\n",
    "    errors_test.append(err)\n",
    "    print(f\"{item['d']} - R2: {item['r2']:.4f} - err: {item['err']:.1f} - err test: {err:.1f}\")"
   ]
  },
  {
   "cell_type": "code",
   "execution_count": 35,
   "id": "a11d863f-cf6b-4f7e-85cd-1e60049c0a7d",
   "metadata": {},
   "outputs": [],
   "source": [
    "def train_lasso(x, y, degrees, alphas):\n",
    "    results = []\n",
    "    for i in degrees:\n",
    "        x_prime = generate_power_n_features(x, i)\n",
    "        for a in alphas:\n",
    "            model = Lasso(alpha=a, fit_intercept=True)\n",
    "            model.fit(x_prime, y.reshape(-1,1))\n",
    "            p = model.predict(x_prime)\n",
    "            results.append({'model': model, \n",
    "                            'd': i,\n",
    "                            'alpha': a,\n",
    "                            'r2': model.score(x_prime, y.reshape(-1,1)),\n",
    "                            'err': mean_absolute_error(y.reshape(-1,1), p)})\n",
    "    return results"
   ]
  },
  {
   "cell_type": "code",
   "execution_count": 42,
   "id": "41e5aba4-337f-47b9-9d32-d8ead87fd77e",
   "metadata": {},
   "outputs": [
    {
     "name": "stderr",
     "output_type": "stream",
     "text": [
      "/home/ryn/.virtualenvs/anisa_ds/lib/python3.10/site-packages/sklearn/linear_model/_ridge.py:216: LinAlgWarning: Ill-conditioned matrix (rcond=4.15066e-20): result may not be accurate.\n",
      "  return linalg.solve(A, Xy, assume_a=\"pos\", overwrite_a=True).T\n",
      "/home/ryn/.virtualenvs/anisa_ds/lib/python3.10/site-packages/sklearn/linear_model/_ridge.py:216: LinAlgWarning: Ill-conditioned matrix (rcond=4.24917e-20): result may not be accurate.\n",
      "  return linalg.solve(A, Xy, assume_a=\"pos\", overwrite_a=True).T\n",
      "/home/ryn/.virtualenvs/anisa_ds/lib/python3.10/site-packages/sklearn/linear_model/_ridge.py:216: LinAlgWarning: Ill-conditioned matrix (rcond=4.68816e-20): result may not be accurate.\n",
      "  return linalg.solve(A, Xy, assume_a=\"pos\", overwrite_a=True).T\n",
      "/home/ryn/.virtualenvs/anisa_ds/lib/python3.10/site-packages/sklearn/linear_model/_ridge.py:216: LinAlgWarning: Ill-conditioned matrix (rcond=5.23938e-20): result may not be accurate.\n",
      "  return linalg.solve(A, Xy, assume_a=\"pos\", overwrite_a=True).T\n",
      "/home/ryn/.virtualenvs/anisa_ds/lib/python3.10/site-packages/sklearn/linear_model/_ridge.py:216: LinAlgWarning: Ill-conditioned matrix (rcond=6.34894e-20): result may not be accurate.\n",
      "  return linalg.solve(A, Xy, assume_a=\"pos\", overwrite_a=True).T\n",
      "/home/ryn/.virtualenvs/anisa_ds/lib/python3.10/site-packages/sklearn/linear_model/_ridge.py:216: LinAlgWarning: Ill-conditioned matrix (rcond=7.46643e-20): result may not be accurate.\n",
      "  return linalg.solve(A, Xy, assume_a=\"pos\", overwrite_a=True).T\n",
      "/home/ryn/.virtualenvs/anisa_ds/lib/python3.10/site-packages/sklearn/linear_model/_ridge.py:216: LinAlgWarning: Ill-conditioned matrix (rcond=1.54221e-19): result may not be accurate.\n",
      "  return linalg.solve(A, Xy, assume_a=\"pos\", overwrite_a=True).T\n",
      "/home/ryn/.virtualenvs/anisa_ds/lib/python3.10/site-packages/sklearn/linear_model/_ridge.py:216: LinAlgWarning: Ill-conditioned matrix (rcond=1.21634e-17): result may not be accurate.\n",
      "  return linalg.solve(A, Xy, assume_a=\"pos\", overwrite_a=True).T\n"
     ]
    }
   ],
   "source": [
    "res = train_ridge(x_train, y_train, [4], [0.1, 1, 5, 10, 20, 30, 100, 10000])"
   ]
  },
  {
   "cell_type": "code",
   "execution_count": 43,
   "id": "75a572a3-8f43-4ec4-9422-24d968373863",
   "metadata": {},
   "outputs": [
    {
     "name": "stdout",
     "output_type": "stream",
     "text": [
      "4 - R2: 0.9951 - err: 0.3 - err test: 0.4\n",
      "4 - R2: 0.9951 - err: 0.3 - err test: 0.4\n",
      "4 - R2: 0.9951 - err: 0.3 - err test: 0.4\n",
      "4 - R2: 0.9951 - err: 0.3 - err test: 0.4\n",
      "4 - R2: 0.9951 - err: 0.3 - err test: 0.4\n",
      "4 - R2: 0.9951 - err: 0.3 - err test: 0.4\n",
      "4 - R2: 0.9950 - err: 0.3 - err test: 0.4\n",
      "4 - R2: 0.9893 - err: 0.4 - err test: 0.5\n"
     ]
    }
   ],
   "source": [
    "errors_test = []\n",
    "for item in res:\n",
    "    m = item['model']\n",
    "    x_t_prime = generate_power_n_features(x_test, item['d'])\n",
    "    p = m.predict(x_t_prime)\n",
    "    err = mean_absolute_error(y_test.reshape(-1,1), p)\n",
    "    errors_test.append(err)\n",
    "    print(f\"{item['d']} - R2: {item['r2']:.4f} - err: {item['err']:.1f} - err test: {err:.1f}\")"
   ]
  },
  {
   "cell_type": "code",
   "execution_count": null,
   "id": "447b7590-02ed-4020-88d2-e151ab7db9a6",
   "metadata": {},
   "outputs": [],
   "source": []
  }
 ],
 "metadata": {
  "kernelspec": {
   "display_name": "Python 3 (ipykernel)",
   "language": "python",
   "name": "python3"
  },
  "language_info": {
   "codemirror_mode": {
    "name": "ipython",
    "version": 3
   },
   "file_extension": ".py",
   "mimetype": "text/x-python",
   "name": "python",
   "nbconvert_exporter": "python",
   "pygments_lexer": "ipython3",
   "version": "3.9.12"
  }
 },
 "nbformat": 4,
 "nbformat_minor": 5
}
